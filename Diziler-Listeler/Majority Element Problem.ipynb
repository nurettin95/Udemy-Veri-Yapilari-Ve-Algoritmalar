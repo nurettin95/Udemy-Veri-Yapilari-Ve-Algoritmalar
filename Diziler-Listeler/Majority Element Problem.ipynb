{
 "cells": [
  {
   "cell_type": "markdown",
   "id": "8d804666",
   "metadata": {},
   "source": [
    "Given an array nums of size n, return the majority element.\n",
    "\n",
    "The majority element is the element that appears more than ⌊n / 2⌋ times. You may assume that the majority element always exists in the array.\n",
    "\n",
    " \n",
    "\n",
    "Example 1:\n",
    "\n",
    "Input: nums = [3,2,3]\n",
    "Output: 3\n",
    "\n",
    "Example 2:\n",
    "\n",
    "Input: nums = [2,2,1,1,1,2,2]\n",
    "Output: 2\n",
    "\n",
    "Follow-up: Could you solve the problem in linear time and in O(1) space?"
   ]
  },
  {
   "cell_type": "code",
   "execution_count": 61,
   "id": "6c2e77a2",
   "metadata": {},
   "outputs": [],
   "source": [
    "myList = [8,9,10,10,10,10,2,8,9,10,8,10,10,10]"
   ]
  },
  {
   "cell_type": "code",
   "execution_count": 62,
   "id": "99c5eb4c",
   "metadata": {},
   "outputs": [],
   "source": [
    "def findMajority():\n",
    "    numbers = {}\n",
    "    result = 0\n",
    "    maxNumber = 0\n",
    "    \n",
    "    for num in myList:\n",
    "        numbers[num] = 1 + numbers.get(num,0)\n",
    "        if numbers[num] > maxNumber:\n",
    "            result = num\n",
    "        maxNumber = max(maxNumber, numbers[num])\n",
    "    return result"
   ]
  },
  {
   "cell_type": "code",
   "execution_count": 63,
   "id": "012306a1",
   "metadata": {},
   "outputs": [
    {
     "data": {
      "text/plain": [
       "10"
      ]
     },
     "execution_count": 63,
     "metadata": {},
     "output_type": "execute_result"
    }
   ],
   "source": [
    "findMajority()"
   ]
  },
  {
   "cell_type": "code",
   "execution_count": 84,
   "id": "df785898",
   "metadata": {},
   "outputs": [],
   "source": [
    "def boyerMoore():\n",
    "    result = 0\n",
    "    count = 0\n",
    "    \n",
    "    for num in myList:\n",
    "        if count == 0:\n",
    "            result = num\n",
    "        if num == result:\n",
    "            count += 1\n",
    "        else:\n",
    "            count -= 1\n",
    "    return result"
   ]
  },
  {
   "cell_type": "code",
   "execution_count": 85,
   "id": "0557b52f",
   "metadata": {},
   "outputs": [],
   "source": [
    " def majorityElement():\n",
    "        result = 0\n",
    "        count = 0\n",
    "        for num in myList:\n",
    "            if count == 0:\n",
    "                result = num\n",
    "            count += 1 if num == result else -1\n",
    "        return result"
   ]
  },
  {
   "cell_type": "code",
   "execution_count": 86,
   "id": "dff7d7f3",
   "metadata": {},
   "outputs": [
    {
     "data": {
      "text/plain": [
       "10"
      ]
     },
     "execution_count": 86,
     "metadata": {},
     "output_type": "execute_result"
    }
   ],
   "source": [
    "majorityElement()"
   ]
  },
  {
   "cell_type": "code",
   "execution_count": 87,
   "id": "ab2f8e86",
   "metadata": {},
   "outputs": [
    {
     "data": {
      "text/plain": [
       "10"
      ]
     },
     "execution_count": 87,
     "metadata": {},
     "output_type": "execute_result"
    }
   ],
   "source": [
    "boyerMoore()"
   ]
  },
  {
   "cell_type": "code",
   "execution_count": null,
   "id": "4aa326cc",
   "metadata": {},
   "outputs": [],
   "source": []
  }
 ],
 "metadata": {
  "kernelspec": {
   "display_name": "Python 3 (ipykernel)",
   "language": "python",
   "name": "python3"
  },
  "language_info": {
   "codemirror_mode": {
    "name": "ipython",
    "version": 3
   },
   "file_extension": ".py",
   "mimetype": "text/x-python",
   "name": "python",
   "nbconvert_exporter": "python",
   "pygments_lexer": "ipython3",
   "version": "3.9.12"
  }
 },
 "nbformat": 4,
 "nbformat_minor": 5
}
