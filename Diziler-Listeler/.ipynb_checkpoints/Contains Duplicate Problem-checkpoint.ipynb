{
 "cells": [
  {
   "cell_type": "markdown",
   "id": "65d6ac87",
   "metadata": {},
   "source": [
    "# Given an integer array nums, return true if any value appears at least twice in the array, and return false if every element is distinct.\n",
    "\n",
    "Input: nums = [1,2,3,1]\n",
    "Output: true\n",
    "\n",
    "Input: nums = [1,2,3,4]\n",
    "Output: false\n",
    "\n",
    "Input: nums = [1,1,1,3,3,4,3,2,4,2]\n",
    "Output: true"
   ]
  },
  {
   "cell_type": "code",
   "execution_count": 1,
   "id": "ad929c81",
   "metadata": {},
   "outputs": [],
   "source": [
    "myList = [1,2,3,4,5,6]"
   ]
  },
  {
   "cell_type": "code",
   "execution_count": 2,
   "id": "1e1e28e3",
   "metadata": {},
   "outputs": [
    {
     "name": "stdout",
     "output_type": "stream",
     "text": [
      "0 0\n",
      "0 1\n",
      "0 2\n",
      "0 3\n",
      "0 4\n",
      "0 5\n",
      "1 0\n",
      "1 1\n",
      "1 2\n",
      "1 3\n",
      "1 4\n",
      "1 5\n",
      "2 0\n",
      "2 1\n",
      "2 2\n",
      "2 3\n",
      "2 4\n",
      "2 5\n",
      "3 0\n",
      "3 1\n",
      "3 2\n",
      "3 3\n",
      "3 4\n",
      "3 5\n",
      "4 0\n",
      "4 1\n",
      "4 2\n",
      "4 3\n",
      "4 4\n",
      "4 5\n",
      "5 0\n",
      "5 1\n",
      "5 2\n",
      "5 3\n",
      "5 4\n",
      "5 5\n"
     ]
    }
   ],
   "source": [
    "for i in range(0,len(myList)):\n",
    "    for j in range(0, len(myList)):\n",
    "        print(i,j)"
   ]
  },
  {
   "cell_type": "code",
   "execution_count": 9,
   "id": "1a72529f",
   "metadata": {},
   "outputs": [],
   "source": [
    "myList = [1,2,3,4,5,6,7,8,2]"
   ]
  },
  {
   "cell_type": "code",
   "execution_count": 12,
   "id": "40330aaa",
   "metadata": {},
   "outputs": [],
   "source": [
    "# O(n) time complexity\n",
    "def solution():\n",
    "    hashSet = set()\n",
    "    for num in myList:\n",
    "        if num in hashSet:\n",
    "            return True\n",
    "        hashSet.add(num)\n",
    "    return False"
   ]
  },
  {
   "cell_type": "code",
   "execution_count": 13,
   "id": "af74b50a",
   "metadata": {},
   "outputs": [
    {
     "data": {
      "text/plain": [
       "True"
      ]
     },
     "execution_count": 13,
     "metadata": {},
     "output_type": "execute_result"
    }
   ],
   "source": [
    "solution()"
   ]
  },
  {
   "cell_type": "code",
   "execution_count": 14,
   "id": "c3435f8d",
   "metadata": {},
   "outputs": [],
   "source": [
    "def solution2():\n",
    "    return len(myList) != len(set(myList))"
   ]
  },
  {
   "cell_type": "code",
   "execution_count": 15,
   "id": "33a6885d",
   "metadata": {},
   "outputs": [
    {
     "data": {
      "text/plain": [
       "True"
      ]
     },
     "execution_count": 15,
     "metadata": {},
     "output_type": "execute_result"
    }
   ],
   "source": [
    "solution2()"
   ]
  },
  {
   "cell_type": "code",
   "execution_count": null,
   "id": "dfb18a68",
   "metadata": {},
   "outputs": [],
   "source": []
  }
 ],
 "metadata": {
  "kernelspec": {
   "display_name": "Python 3 (ipykernel)",
   "language": "python",
   "name": "python3"
  },
  "language_info": {
   "codemirror_mode": {
    "name": "ipython",
    "version": 3
   },
   "file_extension": ".py",
   "mimetype": "text/x-python",
   "name": "python",
   "nbconvert_exporter": "python",
   "pygments_lexer": "ipython3",
   "version": "3.9.12"
  }
 },
 "nbformat": 4,
 "nbformat_minor": 5
}
