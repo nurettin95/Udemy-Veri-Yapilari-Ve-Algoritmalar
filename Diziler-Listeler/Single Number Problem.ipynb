{
 "cells": [
  {
   "cell_type": "markdown",
   "id": "1af44ec5",
   "metadata": {},
   "source": [
    "# Given a non-empty array of integers nums, every element appears twice except for one. Find that single one. \n",
    "# You must implement a solution with a linear runtime complexity and use only constant extra space.\n",
    "\n",
    "Example 1:\n",
    "\n",
    "Input: nums = [2,2,1]\n",
    "Output: 1\n",
    "Example 2:\n",
    "\n",
    "Input: nums = [4,1,2,1,2]\n",
    "Output: 4\n",
    "Example 3:\n",
    "\n",
    "Input: nums = [1]\n",
    "Output: 1\n",
    "\n",
    "Bizden istenen time olarak O(n) Space olarak O(1)"
   ]
  },
  {
   "cell_type": "code",
   "execution_count": 6,
   "id": "9b8a82e9",
   "metadata": {},
   "outputs": [],
   "source": [
    "nums = [1,1,2,2,3]"
   ]
  },
  {
   "cell_type": "code",
   "execution_count": 12,
   "id": "bcb4ce0e",
   "metadata": {},
   "outputs": [],
   "source": [
    "#Bit manipulation\n",
    "def singleNumber():\n",
    "    result = 0\n",
    "    \n",
    "    for i in nums:\n",
    "        result = i ^ result #XOR kapısına sokuyoruz\n",
    "    return result"
   ]
  },
  {
   "cell_type": "code",
   "execution_count": 11,
   "id": "59ab7e66",
   "metadata": {},
   "outputs": [
    {
     "data": {
      "text/plain": [
       "3"
      ]
     },
     "execution_count": 11,
     "metadata": {},
     "output_type": "execute_result"
    }
   ],
   "source": [
    "singleNumber()"
   ]
  },
  {
   "cell_type": "code",
   "execution_count": 13,
   "id": "0dbfc85c",
   "metadata": {},
   "outputs": [],
   "source": [
    "nums = [3,5,7,3,7,5,4]"
   ]
  },
  {
   "cell_type": "code",
   "execution_count": 14,
   "id": "1cffb3dd",
   "metadata": {},
   "outputs": [
    {
     "data": {
      "text/plain": [
       "4"
      ]
     },
     "execution_count": 14,
     "metadata": {},
     "output_type": "execute_result"
    }
   ],
   "source": [
    "singleNumber()"
   ]
  },
  {
   "cell_type": "code",
   "execution_count": null,
   "id": "682013f5",
   "metadata": {},
   "outputs": [],
   "source": []
  }
 ],
 "metadata": {
  "kernelspec": {
   "display_name": "Python 3 (ipykernel)",
   "language": "python",
   "name": "python3"
  },
  "language_info": {
   "codemirror_mode": {
    "name": "ipython",
    "version": 3
   },
   "file_extension": ".py",
   "mimetype": "text/x-python",
   "name": "python",
   "nbconvert_exporter": "python",
   "pygments_lexer": "ipython3",
   "version": "3.9.12"
  }
 },
 "nbformat": 4,
 "nbformat_minor": 5
}
