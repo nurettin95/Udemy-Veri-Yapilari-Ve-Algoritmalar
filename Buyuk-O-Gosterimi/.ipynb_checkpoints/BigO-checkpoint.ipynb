{
 "cells": [
  {
   "cell_type": "code",
   "execution_count": 1,
   "id": "bb11442c",
   "metadata": {},
   "outputs": [],
   "source": [
    "# Big O Notation --> O()\n",
    "# Time Complexity --> Space Complexity\n",
    "# https://www.bigocheatsheet.com/"
   ]
  },
  {
   "cell_type": "code",
   "execution_count": 2,
   "id": "b2060998",
   "metadata": {},
   "outputs": [],
   "source": [
    "def bigon(n):\n",
    "    for i in range(0,n):\n",
    "        print(i)"
   ]
  },
  {
   "cell_type": "code",
   "execution_count": 4,
   "id": "6de72ece",
   "metadata": {},
   "outputs": [
    {
     "name": "stdout",
     "output_type": "stream",
     "text": [
      "0\n",
      "1\n",
      "2\n",
      "3\n",
      "4\n"
     ]
    }
   ],
   "source": [
    "bigon(5)"
   ]
  },
  {
   "cell_type": "code",
   "execution_count": 5,
   "id": "ee8d8b7c",
   "metadata": {},
   "outputs": [],
   "source": [
    "def bigon2(n):\n",
    "    for i in range(0,n):\n",
    "        for j in range(0,n):\n",
    "            print(i,j)"
   ]
  },
  {
   "cell_type": "code",
   "execution_count": 6,
   "id": "74e8f46b",
   "metadata": {},
   "outputs": [
    {
     "name": "stdout",
     "output_type": "stream",
     "text": [
      "0 0\n",
      "0 1\n",
      "0 2\n",
      "0 3\n",
      "0 4\n",
      "1 0\n",
      "1 1\n",
      "1 2\n",
      "1 3\n",
      "1 4\n",
      "2 0\n",
      "2 1\n",
      "2 2\n",
      "2 3\n",
      "2 4\n",
      "3 0\n",
      "3 1\n",
      "3 2\n",
      "3 3\n",
      "3 4\n",
      "4 0\n",
      "4 1\n",
      "4 2\n",
      "4 3\n",
      "4 4\n"
     ]
    }
   ],
   "source": [
    "bigon2(5)"
   ]
  },
  {
   "cell_type": "code",
   "execution_count": 7,
   "id": "34e4de4a",
   "metadata": {},
   "outputs": [],
   "source": [
    "def bigon3(n):\n",
    "    for i in range(0,n):\n",
    "        for j in range(0,n):\n",
    "            for k in range(0,n):\n",
    "                print(i,j,k)"
   ]
  },
  {
   "cell_type": "code",
   "execution_count": 10,
   "id": "6a7689a9",
   "metadata": {},
   "outputs": [
    {
     "name": "stdout",
     "output_type": "stream",
     "text": [
      "0 0 0\n",
      "0 0 1\n",
      "0 1 0\n",
      "0 1 1\n",
      "1 0 0\n",
      "1 0 1\n",
      "1 1 0\n",
      "1 1 1\n"
     ]
    }
   ],
   "source": [
    "bigon3(2)"
   ]
  },
  {
   "cell_type": "code",
   "execution_count": 16,
   "id": "12842c4d",
   "metadata": {},
   "outputs": [],
   "source": [
    "import math\n",
    "def logn(n):\n",
    "    while n > 1:\n",
    "        n = math.floor(n/2)  #yuvarlama methodu\n",
    "        print(n)"
   ]
  },
  {
   "cell_type": "code",
   "execution_count": 20,
   "id": "caf870d4",
   "metadata": {},
   "outputs": [
    {
     "name": "stdout",
     "output_type": "stream",
     "text": [
      "8\n",
      "4\n",
      "2\n",
      "1\n"
     ]
    }
   ],
   "source": [
    "logn(16)"
   ]
  },
  {
   "cell_type": "code",
   "execution_count": 18,
   "id": "b56d7238",
   "metadata": {},
   "outputs": [],
   "source": [
    "def nlogn(n):\n",
    "    lim = n\n",
    "    while n > 1:\n",
    "        n = math.floor(n/2)\n",
    "        for i in range(1,lim):\n",
    "            print(i)"
   ]
  },
  {
   "cell_type": "code",
   "execution_count": 21,
   "id": "99a61a97",
   "metadata": {},
   "outputs": [
    {
     "name": "stdout",
     "output_type": "stream",
     "text": [
      "1\n",
      "2\n",
      "3\n",
      "4\n",
      "5\n",
      "6\n",
      "7\n",
      "8\n",
      "9\n",
      "10\n",
      "11\n",
      "12\n",
      "13\n",
      "14\n",
      "15\n",
      "1\n",
      "2\n",
      "3\n",
      "4\n",
      "5\n",
      "6\n",
      "7\n",
      "8\n",
      "9\n",
      "10\n",
      "11\n",
      "12\n",
      "13\n",
      "14\n",
      "15\n",
      "1\n",
      "2\n",
      "3\n",
      "4\n",
      "5\n",
      "6\n",
      "7\n",
      "8\n",
      "9\n",
      "10\n",
      "11\n",
      "12\n",
      "13\n",
      "14\n",
      "15\n",
      "1\n",
      "2\n",
      "3\n",
      "4\n",
      "5\n",
      "6\n",
      "7\n",
      "8\n",
      "9\n",
      "10\n",
      "11\n",
      "12\n",
      "13\n",
      "14\n",
      "15\n"
     ]
    }
   ],
   "source": [
    "nlogn(16)"
   ]
  },
  {
   "cell_type": "code",
   "execution_count": 26,
   "id": "5736dae7",
   "metadata": {},
   "outputs": [],
   "source": [
    "def nfactorial(n):\n",
    "    if n == 0:\n",
    "        print(\"1\")\n",
    "        return\n",
    "    else:\n",
    "        for i in range(0,n):\n",
    "            print(i)\n",
    "            nfactorial(n-1) #recursive"
   ]
  },
  {
   "cell_type": "code",
   "execution_count": 27,
   "id": "59311ee7",
   "metadata": {},
   "outputs": [
    {
     "name": "stdout",
     "output_type": "stream",
     "text": [
      "0\n",
      "0\n",
      "0\n",
      "1\n",
      "1\n",
      "0\n",
      "1\n",
      "1\n",
      "0\n",
      "0\n",
      "1\n",
      "1\n",
      "0\n",
      "1\n",
      "2\n",
      "0\n",
      "0\n",
      "1\n",
      "1\n",
      "0\n",
      "1\n"
     ]
    }
   ],
   "source": [
    "nfactorial(3)"
   ]
  },
  {
   "cell_type": "code",
   "execution_count": 34,
   "id": "f4b96260",
   "metadata": {},
   "outputs": [],
   "source": [
    "#O(n)\n",
    "counter = 0\n",
    "def actualFactorial(n):\n",
    "    global counter\n",
    "    counter +=1\n",
    "    print(counter)\n",
    "    if(n == 1 or n == 0):\n",
    "        return 1\n",
    "    else:\n",
    "        return (n * actualFactorial(n-1))"
   ]
  },
  {
   "cell_type": "code",
   "execution_count": 35,
   "id": "b4f7b8a7",
   "metadata": {},
   "outputs": [
    {
     "name": "stdout",
     "output_type": "stream",
     "text": [
      "1\n",
      "2\n",
      "3\n",
      "4\n",
      "5\n"
     ]
    },
    {
     "data": {
      "text/plain": [
       "120"
      ]
     },
     "execution_count": 35,
     "metadata": {},
     "output_type": "execute_result"
    }
   ],
   "source": [
    "actualFactorial(5)"
   ]
  },
  {
   "cell_type": "code",
   "execution_count": null,
   "id": "749d7d64",
   "metadata": {},
   "outputs": [],
   "source": []
  }
 ],
 "metadata": {
  "kernelspec": {
   "display_name": "Python 3 (ipykernel)",
   "language": "python",
   "name": "python3"
  },
  "language_info": {
   "codemirror_mode": {
    "name": "ipython",
    "version": 3
   },
   "file_extension": ".py",
   "mimetype": "text/x-python",
   "name": "python",
   "nbconvert_exporter": "python",
   "pygments_lexer": "ipython3",
   "version": "3.9.12"
  }
 },
 "nbformat": 4,
 "nbformat_minor": 5
}
