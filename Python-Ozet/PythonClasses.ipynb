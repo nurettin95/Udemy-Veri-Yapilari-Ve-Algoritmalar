{
 "cells": [
  {
   "cell_type": "code",
   "execution_count": 29,
   "id": "5dde27ce",
   "metadata": {},
   "outputs": [],
   "source": [
    "class Musician():\n",
    "    \n",
    "    def __init__(self,name,age,instrument):\n",
    "        self.name = name\n",
    "        self.age = age\n",
    "        self.instrument = instrument\n",
    "        \n",
    "    def sing(self):\n",
    "        print(\"sing sing sing\")\n",
    "        \n",
    "    def __len__(self):\n",
    "        return self.age\n",
    "    \n",
    "    def __str__(self):\n",
    "        return self.name"
   ]
  },
  {
   "cell_type": "code",
   "execution_count": 30,
   "id": "bc274f5d",
   "metadata": {},
   "outputs": [],
   "source": [
    "james = Musician(\"James\",50,\"Guitar\") #instance"
   ]
  },
  {
   "cell_type": "code",
   "execution_count": 31,
   "id": "7d9eb0c6",
   "metadata": {},
   "outputs": [
    {
     "data": {
      "text/plain": [
       "50"
      ]
     },
     "execution_count": 31,
     "metadata": {},
     "output_type": "execute_result"
    }
   ],
   "source": [
    "james.age"
   ]
  },
  {
   "cell_type": "code",
   "execution_count": 32,
   "id": "f4785370",
   "metadata": {},
   "outputs": [
    {
     "name": "stdout",
     "output_type": "stream",
     "text": [
      "sing sing sing\n"
     ]
    }
   ],
   "source": [
    "james.sing()"
   ]
  },
  {
   "cell_type": "code",
   "execution_count": 33,
   "id": "1c0526bc",
   "metadata": {},
   "outputs": [
    {
     "data": {
      "text/plain": [
       "50"
      ]
     },
     "execution_count": 33,
     "metadata": {},
     "output_type": "execute_result"
    }
   ],
   "source": [
    "len(james)"
   ]
  },
  {
   "cell_type": "code",
   "execution_count": 34,
   "id": "7dc7ee2a",
   "metadata": {},
   "outputs": [
    {
     "name": "stdout",
     "output_type": "stream",
     "text": [
      "James\n"
     ]
    }
   ],
   "source": [
    "print(james)"
   ]
  },
  {
   "cell_type": "code",
   "execution_count": 35,
   "id": "1f8033bf",
   "metadata": {},
   "outputs": [],
   "source": [
    "#inheritance"
   ]
  },
  {
   "cell_type": "code",
   "execution_count": 36,
   "id": "4b59df20",
   "metadata": {},
   "outputs": [],
   "source": [
    "class Class1():\n",
    "    \n",
    "    def __init__(self):\n",
    "        print(\"class 1 created\")\n",
    "        \n",
    "    def method(self):\n",
    "        print(\"method 1\")\n",
    "    def method2(self):\n",
    "        print(\"method 2\")"
   ]
  },
  {
   "cell_type": "code",
   "execution_count": 37,
   "id": "86bd1a25",
   "metadata": {},
   "outputs": [
    {
     "name": "stdout",
     "output_type": "stream",
     "text": [
      "class 1 created\n"
     ]
    }
   ],
   "source": [
    "class1Instance = Class1()"
   ]
  },
  {
   "cell_type": "code",
   "execution_count": 38,
   "id": "7b32ba7a",
   "metadata": {},
   "outputs": [
    {
     "name": "stdout",
     "output_type": "stream",
     "text": [
      "method 1\n"
     ]
    }
   ],
   "source": [
    "class1Instance.method()"
   ]
  },
  {
   "cell_type": "code",
   "execution_count": 39,
   "id": "f67951b5",
   "metadata": {},
   "outputs": [],
   "source": [
    "class Class2(Class1):\n",
    "    def __init__(self):\n",
    "        Class1.__init__(self)\n",
    "        print(\"Class 2 created\")"
   ]
  },
  {
   "cell_type": "code",
   "execution_count": 40,
   "id": "bd27348c",
   "metadata": {},
   "outputs": [
    {
     "name": "stdout",
     "output_type": "stream",
     "text": [
      "class 1 created\n",
      "Class 2 created\n"
     ]
    }
   ],
   "source": [
    "class2Instance = Class2()"
   ]
  },
  {
   "cell_type": "code",
   "execution_count": 42,
   "id": "039e3dc3",
   "metadata": {},
   "outputs": [
    {
     "name": "stdout",
     "output_type": "stream",
     "text": [
      "method 1\n"
     ]
    }
   ],
   "source": [
    "class2Instance.method()"
   ]
  },
  {
   "cell_type": "code",
   "execution_count": 43,
   "id": "aa3c33a1",
   "metadata": {},
   "outputs": [],
   "source": [
    "#polymorphism"
   ]
  },
  {
   "cell_type": "code",
   "execution_count": 52,
   "id": "3acbd282",
   "metadata": {},
   "outputs": [],
   "source": [
    "class Apple():\n",
    "    \n",
    "    def __init__(self,name):\n",
    "        self.name = name\n",
    "        \n",
    "    def information(self):\n",
    "        return self.name + \" 100 calories\""
   ]
  },
  {
   "cell_type": "code",
   "execution_count": 53,
   "id": "79deadb6",
   "metadata": {},
   "outputs": [],
   "source": [
    "class Banana():\n",
    "    \n",
    "    def __init__(self,name):\n",
    "        self.name = name\n",
    "    def information(self):\n",
    "        return self.name + \" 200 calories\""
   ]
  },
  {
   "cell_type": "code",
   "execution_count": 54,
   "id": "7b61b0eb",
   "metadata": {},
   "outputs": [],
   "source": [
    "banana = Banana(\"banana\")"
   ]
  },
  {
   "cell_type": "code",
   "execution_count": 55,
   "id": "35752239",
   "metadata": {},
   "outputs": [],
   "source": [
    "apple = Apple(\"apple\")"
   ]
  },
  {
   "cell_type": "code",
   "execution_count": 56,
   "id": "c300c3d4",
   "metadata": {},
   "outputs": [],
   "source": [
    "fruitList = [banana,apple]"
   ]
  },
  {
   "cell_type": "code",
   "execution_count": 57,
   "id": "675b5a18",
   "metadata": {},
   "outputs": [
    {
     "name": "stdout",
     "output_type": "stream",
     "text": [
      "banana 200 calories\n",
      "apple 100 calories\n"
     ]
    }
   ],
   "source": [
    "for fruit in fruitList:\n",
    "    print(fruit.information())"
   ]
  },
  {
   "cell_type": "code",
   "execution_count": 58,
   "id": "0d96024c",
   "metadata": {},
   "outputs": [],
   "source": [
    "#scope"
   ]
  },
  {
   "cell_type": "code",
   "execution_count": 59,
   "id": "9fdb697e",
   "metadata": {},
   "outputs": [],
   "source": [
    "number = 10"
   ]
  },
  {
   "cell_type": "code",
   "execution_count": 60,
   "id": "864dad36",
   "metadata": {},
   "outputs": [
    {
     "name": "stdout",
     "output_type": "stream",
     "text": [
      "10\n"
     ]
    }
   ],
   "source": [
    "print(number)"
   ]
  },
  {
   "cell_type": "code",
   "execution_count": 61,
   "id": "fd0cbb76",
   "metadata": {},
   "outputs": [],
   "source": [
    "number = 10\n",
    "def multiply(num1):\n",
    "    number = 5\n",
    "    return num1 * number"
   ]
  },
  {
   "cell_type": "code",
   "execution_count": 62,
   "id": "c3f21675",
   "metadata": {},
   "outputs": [
    {
     "data": {
      "text/plain": [
       "50"
      ]
     },
     "execution_count": 62,
     "metadata": {},
     "output_type": "execute_result"
    }
   ],
   "source": [
    "multiply(10)"
   ]
  },
  {
   "cell_type": "code",
   "execution_count": 63,
   "id": "89f6426e",
   "metadata": {},
   "outputs": [
    {
     "name": "stdout",
     "output_type": "stream",
     "text": [
      "10\n"
     ]
    }
   ],
   "source": [
    "print(number)"
   ]
  },
  {
   "cell_type": "code",
   "execution_count": 104,
   "id": "388eb5e9",
   "metadata": {},
   "outputs": [
    {
     "name": "stdout",
     "output_type": "stream",
     "text": [
      "100\n",
      "10\n"
     ]
    }
   ],
   "source": [
    "number = 10\n",
    "def multiply(num1):\n",
    "    number = 5\n",
    "    return num1 * number\n",
    "print(multiply(20))\n",
    "print(number)"
   ]
  },
  {
   "cell_type": "code",
   "execution_count": 66,
   "id": "c612172d",
   "metadata": {},
   "outputs": [],
   "source": [
    "#legb -> l-> local, e->enclosing, g-> global, b->built-in"
   ]
  },
  {
   "cell_type": "code",
   "execution_count": 79,
   "id": "009bfb6d",
   "metadata": {},
   "outputs": [],
   "source": [
    "#global\n",
    "myName = \"Atil\"\n",
    "\n",
    "def myFunction():\n",
    "    #enclosing\n",
    "    myName = \"James\"\n",
    "    \n",
    "    def myFunction2():\n",
    "        #local\n",
    "        myName = \"Lars\"\n",
    "        print(myName)\n",
    "        \n",
    "    myFunction2()"
   ]
  },
  {
   "cell_type": "code",
   "execution_count": 80,
   "id": "503bc758",
   "metadata": {},
   "outputs": [
    {
     "name": "stdout",
     "output_type": "stream",
     "text": [
      "Lars\n"
     ]
    }
   ],
   "source": [
    "myFunction()"
   ]
  },
  {
   "cell_type": "code",
   "execution_count": 97,
   "id": "415dcefa",
   "metadata": {},
   "outputs": [],
   "source": [
    "y = 10 \n",
    "\n",
    "def newFunction():\n",
    "    global y\n",
    "    y = 5\n",
    "    print(y)"
   ]
  },
  {
   "cell_type": "code",
   "execution_count": 98,
   "id": "6d46bd89",
   "metadata": {},
   "outputs": [
    {
     "name": "stdout",
     "output_type": "stream",
     "text": [
      "5\n"
     ]
    }
   ],
   "source": [
    "newFunction()"
   ]
  },
  {
   "cell_type": "code",
   "execution_count": 99,
   "id": "1eb9f78a",
   "metadata": {},
   "outputs": [
    {
     "name": "stdout",
     "output_type": "stream",
     "text": [
      "5\n"
     ]
    }
   ],
   "source": [
    "print(y)"
   ]
  },
  {
   "cell_type": "code",
   "execution_count": null,
   "id": "4605b396",
   "metadata": {},
   "outputs": [],
   "source": []
  }
 ],
 "metadata": {
  "kernelspec": {
   "display_name": "Python 3 (ipykernel)",
   "language": "python",
   "name": "python3"
  },
  "language_info": {
   "codemirror_mode": {
    "name": "ipython",
    "version": 3
   },
   "file_extension": ".py",
   "mimetype": "text/x-python",
   "name": "python",
   "nbconvert_exporter": "python",
   "pygments_lexer": "ipython3",
   "version": "3.9.12"
  }
 },
 "nbformat": 4,
 "nbformat_minor": 5
}
