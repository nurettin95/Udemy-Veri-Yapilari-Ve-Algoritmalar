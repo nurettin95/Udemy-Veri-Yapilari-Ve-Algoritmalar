{
 "cells": [
  {
   "cell_type": "code",
   "execution_count": 1,
   "id": "8c88d98e",
   "metadata": {},
   "outputs": [
    {
     "name": "stdout",
     "output_type": "stream",
     "text": [
      "hello\n"
     ]
    }
   ],
   "source": [
    "print(\"hello\")"
   ]
  },
  {
   "cell_type": "code",
   "execution_count": 2,
   "id": "24e90b08",
   "metadata": {},
   "outputs": [
    {
     "data": {
      "text/plain": [
       "9"
      ]
     },
     "execution_count": 2,
     "metadata": {},
     "output_type": "execute_result"
    }
   ],
   "source": [
    "5 + 4 "
   ]
  },
  {
   "cell_type": "code",
   "execution_count": 4,
   "id": "374f6820",
   "metadata": {},
   "outputs": [
    {
     "name": "stdout",
     "output_type": "stream",
     "text": [
      "hello\n",
      "world\n"
     ]
    }
   ],
   "source": [
    "print(\"hello\")\n",
    "print(\"world\")"
   ]
  },
  {
   "cell_type": "code",
   "execution_count": 5,
   "id": "725446fa",
   "metadata": {},
   "outputs": [],
   "source": [
    "x = 5 "
   ]
  },
  {
   "cell_type": "code",
   "execution_count": 6,
   "id": "5de43dfa",
   "metadata": {},
   "outputs": [
    {
     "data": {
      "text/plain": [
       "int"
      ]
     },
     "execution_count": 6,
     "metadata": {},
     "output_type": "execute_result"
    }
   ],
   "source": [
    "type(x)"
   ]
  },
  {
   "cell_type": "code",
   "execution_count": 7,
   "id": "3f178fc0",
   "metadata": {},
   "outputs": [],
   "source": [
    "y = 5.4"
   ]
  },
  {
   "cell_type": "code",
   "execution_count": 8,
   "id": "5843c81a",
   "metadata": {},
   "outputs": [
    {
     "data": {
      "text/plain": [
       "float"
      ]
     },
     "execution_count": 8,
     "metadata": {},
     "output_type": "execute_result"
    }
   ],
   "source": [
    "type(y)"
   ]
  },
  {
   "cell_type": "code",
   "execution_count": 1,
   "id": "00cf9ab2",
   "metadata": {},
   "outputs": [],
   "source": [
    "pi = 3.14"
   ]
  },
  {
   "cell_type": "code",
   "execution_count": 2,
   "id": "eb130507",
   "metadata": {},
   "outputs": [
    {
     "data": {
      "text/plain": [
       "float"
      ]
     },
     "execution_count": 2,
     "metadata": {},
     "output_type": "execute_result"
    }
   ],
   "source": [
    "type(pi)"
   ]
  },
  {
   "cell_type": "code",
   "execution_count": 4,
   "id": "2251c6ff",
   "metadata": {},
   "outputs": [],
   "source": [
    "myBoolean = True"
   ]
  },
  {
   "cell_type": "code",
   "execution_count": 5,
   "id": "cd176cc3",
   "metadata": {},
   "outputs": [
    {
     "data": {
      "text/plain": [
       "bool"
      ]
     },
     "execution_count": 5,
     "metadata": {},
     "output_type": "execute_result"
    }
   ],
   "source": [
    "type(myBoolean)"
   ]
  },
  {
   "cell_type": "code",
   "execution_count": 6,
   "id": "d4b0feaf",
   "metadata": {},
   "outputs": [],
   "source": [
    "myString = \"atil samancioglu\""
   ]
  },
  {
   "cell_type": "code",
   "execution_count": 7,
   "id": "8ccf53bf",
   "metadata": {},
   "outputs": [
    {
     "data": {
      "text/plain": [
       "'t'"
      ]
     },
     "execution_count": 7,
     "metadata": {},
     "output_type": "execute_result"
    }
   ],
   "source": [
    "myString[1]"
   ]
  },
  {
   "cell_type": "code",
   "execution_count": 9,
   "id": "f84fd97f",
   "metadata": {},
   "outputs": [
    {
     "data": {
      "text/plain": [
       "16"
      ]
     },
     "execution_count": 9,
     "metadata": {},
     "output_type": "execute_result"
    }
   ],
   "source": [
    "len(myString)"
   ]
  },
  {
   "cell_type": "code",
   "execution_count": 10,
   "id": "8ae565dd",
   "metadata": {},
   "outputs": [
    {
     "data": {
      "text/plain": [
       "'u'"
      ]
     },
     "execution_count": 10,
     "metadata": {},
     "output_type": "execute_result"
    }
   ],
   "source": [
    "myString[len(myString)-1]"
   ]
  },
  {
   "cell_type": "code",
   "execution_count": 13,
   "id": "53dd2f2d",
   "metadata": {},
   "outputs": [
    {
     "data": {
      "text/plain": [
       "'u'"
      ]
     },
     "execution_count": 13,
     "metadata": {},
     "output_type": "execute_result"
    }
   ],
   "source": [
    "myString[-1] # son karakter"
   ]
  },
  {
   "cell_type": "code",
   "execution_count": 14,
   "id": "f2e69a47",
   "metadata": {},
   "outputs": [
    {
     "data": {
      "text/plain": [
       "'atil samanciogluatil samancioglu'"
      ]
     },
     "execution_count": 14,
     "metadata": {},
     "output_type": "execute_result"
    }
   ],
   "source": [
    "myString * 2"
   ]
  },
  {
   "cell_type": "markdown",
   "id": "ac400634",
   "metadata": {},
   "source": [
    "## Slicing"
   ]
  },
  {
   "cell_type": "code",
   "execution_count": 16,
   "id": "decd124a",
   "metadata": {},
   "outputs": [
    {
     "data": {
      "text/plain": [
       "'atil samancioglu'"
      ]
     },
     "execution_count": 16,
     "metadata": {},
     "output_type": "execute_result"
    }
   ],
   "source": [
    "myString"
   ]
  },
  {
   "cell_type": "code",
   "execution_count": 17,
   "id": "0da111fb",
   "metadata": {},
   "outputs": [
    {
     "data": {
      "text/plain": [
       "'Atil samancioglu'"
      ]
     },
     "execution_count": 17,
     "metadata": {},
     "output_type": "execute_result"
    }
   ],
   "source": [
    "myString.capitalize() #ilk harfi büyük hale getirmek."
   ]
  },
  {
   "cell_type": "code",
   "execution_count": 19,
   "id": "721155bc",
   "metadata": {},
   "outputs": [
    {
     "data": {
      "text/plain": [
       "3"
      ]
     },
     "execution_count": 19,
     "metadata": {},
     "output_type": "execute_result"
    }
   ],
   "source": [
    "myString.count(\"a\") #içinde kaç tane a var saymak "
   ]
  },
  {
   "cell_type": "code",
   "execution_count": 23,
   "id": "dc82cf5f",
   "metadata": {},
   "outputs": [
    {
     "data": {
      "text/plain": [
       "'l samancioglu'"
      ]
     },
     "execution_count": 23,
     "metadata": {},
     "output_type": "execute_result"
    }
   ],
   "source": [
    "myString[3:] #3. indexten başlayarak bu stringi yazdır starting index"
   ]
  },
  {
   "cell_type": "code",
   "execution_count": 24,
   "id": "97dce676",
   "metadata": {},
   "outputs": [
    {
     "data": {
      "text/plain": [
       "'ati'"
      ]
     },
     "execution_count": 24,
     "metadata": {},
     "output_type": "execute_result"
    }
   ],
   "source": [
    "myString[:3] #0,1,2 al 3te dur demek #stopping index"
   ]
  },
  {
   "cell_type": "code",
   "execution_count": 26,
   "id": "6a0deba2",
   "metadata": {},
   "outputs": [
    {
     "data": {
      "text/plain": [
       "'sam'"
      ]
     },
     "execution_count": 26,
     "metadata": {},
     "output_type": "execute_result"
    }
   ],
   "source": [
    "myString[5:8] #5'te başla 8 de dur"
   ]
  },
  {
   "cell_type": "code",
   "execution_count": 27,
   "id": "5a68e29b",
   "metadata": {},
   "outputs": [],
   "source": [
    "barcode = \"42384923hrpsang\""
   ]
  },
  {
   "cell_type": "code",
   "execution_count": 29,
   "id": "01569033",
   "metadata": {},
   "outputs": [
    {
     "data": {
      "text/plain": [
       "'482ra'"
      ]
     },
     "execution_count": 29,
     "metadata": {},
     "output_type": "execute_result"
    }
   ],
   "source": [
    "barcode[::3] #stepping size 3 er 3 er atlayarak git"
   ]
  },
  {
   "cell_type": "code",
   "execution_count": 30,
   "id": "d151263f",
   "metadata": {},
   "outputs": [
    {
     "data": {
      "text/plain": [
       "'gnasprh32948324'"
      ]
     },
     "execution_count": 30,
     "metadata": {},
     "output_type": "execute_result"
    }
   ],
   "source": [
    "barcode[::-1] # terse çevirme"
   ]
  },
  {
   "cell_type": "code",
   "execution_count": null,
   "id": "d5d3c601",
   "metadata": {},
   "outputs": [],
   "source": []
  }
 ],
 "metadata": {
  "kernelspec": {
   "display_name": "Python 3 (ipykernel)",
   "language": "python",
   "name": "python3"
  },
  "language_info": {
   "codemirror_mode": {
    "name": "ipython",
    "version": 3
   },
   "file_extension": ".py",
   "mimetype": "text/x-python",
   "name": "python",
   "nbconvert_exporter": "python",
   "pygments_lexer": "ipython3",
   "version": "3.9.12"
  }
 },
 "nbformat": 4,
 "nbformat_minor": 5
}
