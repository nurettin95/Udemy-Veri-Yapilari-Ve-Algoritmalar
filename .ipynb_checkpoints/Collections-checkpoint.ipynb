{
 "cells": [
  {
   "cell_type": "code",
   "execution_count": 1,
   "id": "4705ab31",
   "metadata": {},
   "outputs": [],
   "source": [
    "#Listeler"
   ]
  },
  {
   "cell_type": "code",
   "execution_count": 6,
   "id": "e9fca130",
   "metadata": {},
   "outputs": [],
   "source": [
    "myList = [1,2,3,4,5,6,7]"
   ]
  },
  {
   "cell_type": "code",
   "execution_count": 7,
   "id": "af144f23",
   "metadata": {},
   "outputs": [
    {
     "data": {
      "text/plain": [
       "list"
      ]
     },
     "execution_count": 7,
     "metadata": {},
     "output_type": "execute_result"
    }
   ],
   "source": [
    "type(myList)"
   ]
  },
  {
   "cell_type": "code",
   "execution_count": 8,
   "id": "0fc8f42b",
   "metadata": {},
   "outputs": [],
   "source": [
    "myOtherList = list()"
   ]
  },
  {
   "cell_type": "code",
   "execution_count": 9,
   "id": "dd907b07",
   "metadata": {},
   "outputs": [],
   "source": [
    "myOtherList.append(\"a\")"
   ]
  },
  {
   "cell_type": "code",
   "execution_count": 10,
   "id": "b6b1700d",
   "metadata": {},
   "outputs": [],
   "source": [
    "myOtherList.append(\"b\")"
   ]
  },
  {
   "cell_type": "code",
   "execution_count": 11,
   "id": "6db2ab97",
   "metadata": {},
   "outputs": [
    {
     "data": {
      "text/plain": [
       "['a', 'b']"
      ]
     },
     "execution_count": 11,
     "metadata": {},
     "output_type": "execute_result"
    }
   ],
   "source": [
    "myOtherList"
   ]
  },
  {
   "cell_type": "code",
   "execution_count": 14,
   "id": "c5da02f0",
   "metadata": {},
   "outputs": [],
   "source": [
    "myMixedList = [1,2,3,4.5,5.5,\"atil\",True]"
   ]
  },
  {
   "cell_type": "code",
   "execution_count": 15,
   "id": "65e96cf0",
   "metadata": {},
   "outputs": [
    {
     "data": {
      "text/plain": [
       "4.5"
      ]
     },
     "execution_count": 15,
     "metadata": {},
     "output_type": "execute_result"
    }
   ],
   "source": [
    "myMixedList[3]"
   ]
  },
  {
   "cell_type": "code",
   "execution_count": 16,
   "id": "e6eecf92",
   "metadata": {},
   "outputs": [],
   "source": [
    "x = myMixedList[0]"
   ]
  },
  {
   "cell_type": "code",
   "execution_count": 17,
   "id": "5f8819cd",
   "metadata": {},
   "outputs": [
    {
     "data": {
      "text/plain": [
       "int"
      ]
     },
     "execution_count": 17,
     "metadata": {},
     "output_type": "execute_result"
    }
   ],
   "source": [
    "type(x)"
   ]
  },
  {
   "cell_type": "code",
   "execution_count": 18,
   "id": "6bf73f17",
   "metadata": {},
   "outputs": [],
   "source": [
    "y = myMixedList[3]"
   ]
  },
  {
   "cell_type": "code",
   "execution_count": 19,
   "id": "aa2142c7",
   "metadata": {},
   "outputs": [
    {
     "data": {
      "text/plain": [
       "float"
      ]
     },
     "execution_count": 19,
     "metadata": {},
     "output_type": "execute_result"
    }
   ],
   "source": [
    "type(y)"
   ]
  },
  {
   "cell_type": "code",
   "execution_count": 20,
   "id": "7619598e",
   "metadata": {},
   "outputs": [
    {
     "data": {
      "text/plain": [
       "[2, 4.5]"
      ]
     },
     "execution_count": 20,
     "metadata": {},
     "output_type": "execute_result"
    }
   ],
   "source": [
    "myMixedList[1:5:2]"
   ]
  },
  {
   "cell_type": "code",
   "execution_count": 21,
   "id": "63580a83",
   "metadata": {},
   "outputs": [],
   "source": [
    "myNestedList = [1,2,3,[\"a\",\"b\"],[10,20]]"
   ]
  },
  {
   "cell_type": "code",
   "execution_count": 22,
   "id": "ed8dec0a",
   "metadata": {},
   "outputs": [
    {
     "data": {
      "text/plain": [
       "['a', 'b']"
      ]
     },
     "execution_count": 22,
     "metadata": {},
     "output_type": "execute_result"
    }
   ],
   "source": [
    "myNestedList[3]"
   ]
  },
  {
   "cell_type": "code",
   "execution_count": 23,
   "id": "09f948fc",
   "metadata": {},
   "outputs": [
    {
     "data": {
      "text/plain": [
       "'b'"
      ]
     },
     "execution_count": 23,
     "metadata": {},
     "output_type": "execute_result"
    }
   ],
   "source": [
    "myNestedList[3][1]"
   ]
  },
  {
   "cell_type": "code",
   "execution_count": 24,
   "id": "00952dce",
   "metadata": {},
   "outputs": [],
   "source": [
    "myNestedList[0]  = 100"
   ]
  },
  {
   "cell_type": "code",
   "execution_count": 25,
   "id": "7c2545f8",
   "metadata": {},
   "outputs": [
    {
     "data": {
      "text/plain": [
       "[100, 2, 3, ['a', 'b'], [10, 20]]"
      ]
     },
     "execution_count": 25,
     "metadata": {},
     "output_type": "execute_result"
    }
   ],
   "source": [
    "myNestedList"
   ]
  },
  {
   "cell_type": "code",
   "execution_count": 26,
   "id": "b8355b65",
   "metadata": {},
   "outputs": [],
   "source": [
    "#Dictionary (key-value pairing)"
   ]
  },
  {
   "cell_type": "code",
   "execution_count": 27,
   "id": "ccd6531a",
   "metadata": {},
   "outputs": [],
   "source": [
    "myDictionary = {\"apple\":100,\"banana\":200,\"melon\":300}"
   ]
  },
  {
   "cell_type": "code",
   "execution_count": 28,
   "id": "bc10c86f",
   "metadata": {},
   "outputs": [
    {
     "data": {
      "text/plain": [
       "dict"
      ]
     },
     "execution_count": 28,
     "metadata": {},
     "output_type": "execute_result"
    }
   ],
   "source": [
    "type(myDictionary)"
   ]
  },
  {
   "cell_type": "code",
   "execution_count": 29,
   "id": "14cf9c35",
   "metadata": {},
   "outputs": [
    {
     "data": {
      "text/plain": [
       "100"
      ]
     },
     "execution_count": 29,
     "metadata": {},
     "output_type": "execute_result"
    }
   ],
   "source": [
    "myDictionary[\"apple\"]"
   ]
  },
  {
   "cell_type": "code",
   "execution_count": 30,
   "id": "8ad5f712",
   "metadata": {},
   "outputs": [
    {
     "data": {
      "text/plain": [
       "{'apple': 100, 'banana': 200, 'melon': 300}"
      ]
     },
     "execution_count": 30,
     "metadata": {},
     "output_type": "execute_result"
    }
   ],
   "source": [
    "myDictionary"
   ]
  },
  {
   "cell_type": "code",
   "execution_count": 31,
   "id": "a98fa1cc",
   "metadata": {},
   "outputs": [
    {
     "data": {
      "text/plain": [
       "dict_values([100, 200, 300])"
      ]
     },
     "execution_count": 31,
     "metadata": {},
     "output_type": "execute_result"
    }
   ],
   "source": [
    "myDictionary.values()"
   ]
  },
  {
   "cell_type": "code",
   "execution_count": 33,
   "id": "628f482f",
   "metadata": {},
   "outputs": [
    {
     "data": {
      "text/plain": [
       "dict_items([('apple', 100), ('banana', 200), ('melon', 300)])"
      ]
     },
     "execution_count": 33,
     "metadata": {},
     "output_type": "execute_result"
    }
   ],
   "source": [
    "myDictionary.items()"
   ]
  },
  {
   "cell_type": "code",
   "execution_count": 34,
   "id": "dce2a18d",
   "metadata": {},
   "outputs": [
    {
     "data": {
      "text/plain": [
       "dict_keys(['apple', 'banana', 'melon'])"
      ]
     },
     "execution_count": 34,
     "metadata": {},
     "output_type": "execute_result"
    }
   ],
   "source": [
    "myDictionary.keys()"
   ]
  },
  {
   "cell_type": "code",
   "execution_count": 36,
   "id": "5c633610",
   "metadata": {},
   "outputs": [
    {
     "data": {
      "text/plain": [
       "0"
      ]
     },
     "execution_count": 36,
     "metadata": {},
     "output_type": "execute_result"
    }
   ],
   "source": [
    "myDictionary.get(\"Atil\",0) #Atil varsa değerini döndür yoksa 0 döndür"
   ]
  },
  {
   "cell_type": "code",
   "execution_count": 37,
   "id": "c460c202",
   "metadata": {},
   "outputs": [
    {
     "data": {
      "text/plain": [
       "300"
      ]
     },
     "execution_count": 37,
     "metadata": {},
     "output_type": "execute_result"
    }
   ],
   "source": [
    "myDictionary.pop(\"melon\") #sondakini çıkarır"
   ]
  },
  {
   "cell_type": "code",
   "execution_count": 38,
   "id": "f5c4b7b1",
   "metadata": {},
   "outputs": [
    {
     "data": {
      "text/plain": [
       "{'apple': 100, 'banana': 200}"
      ]
     },
     "execution_count": 38,
     "metadata": {},
     "output_type": "execute_result"
    }
   ],
   "source": [
    "myDictionary"
   ]
  },
  {
   "cell_type": "code",
   "execution_count": 39,
   "id": "e3cc4715",
   "metadata": {},
   "outputs": [],
   "source": [
    "myDictionary[\"atil\"] = 400"
   ]
  },
  {
   "cell_type": "code",
   "execution_count": 40,
   "id": "ebbfe596",
   "metadata": {},
   "outputs": [
    {
     "data": {
      "text/plain": [
       "{'apple': 100, 'banana': 200, 'atil': 400}"
      ]
     },
     "execution_count": 40,
     "metadata": {},
     "output_type": "execute_result"
    }
   ],
   "source": [
    "myDictionary"
   ]
  },
  {
   "cell_type": "code",
   "execution_count": 41,
   "id": "6bcd4a90",
   "metadata": {},
   "outputs": [],
   "source": [
    "#set //tek eleman içeriri"
   ]
  },
  {
   "cell_type": "code",
   "execution_count": 42,
   "id": "8b24ba8d",
   "metadata": {},
   "outputs": [],
   "source": [
    "mySet = {}"
   ]
  },
  {
   "cell_type": "code",
   "execution_count": 43,
   "id": "2306d0fc",
   "metadata": {},
   "outputs": [
    {
     "data": {
      "text/plain": [
       "dict"
      ]
     },
     "execution_count": 43,
     "metadata": {},
     "output_type": "execute_result"
    }
   ],
   "source": [
    "type(mySet)"
   ]
  },
  {
   "cell_type": "code",
   "execution_count": 44,
   "id": "9c8cd33a",
   "metadata": {},
   "outputs": [],
   "source": [
    "myset = {1,2,3,4}"
   ]
  },
  {
   "cell_type": "code",
   "execution_count": 45,
   "id": "6acb2a71",
   "metadata": {},
   "outputs": [
    {
     "data": {
      "text/plain": [
       "dict"
      ]
     },
     "execution_count": 45,
     "metadata": {},
     "output_type": "execute_result"
    }
   ],
   "source": [
    "type(mySet)"
   ]
  },
  {
   "cell_type": "code",
   "execution_count": 46,
   "id": "5541937c",
   "metadata": {},
   "outputs": [],
   "source": [
    "myEmptySet = set()"
   ]
  },
  {
   "cell_type": "code",
   "execution_count": 47,
   "id": "d341b6f8",
   "metadata": {},
   "outputs": [
    {
     "data": {
      "text/plain": [
       "set()"
      ]
     },
     "execution_count": 47,
     "metadata": {},
     "output_type": "execute_result"
    }
   ],
   "source": [
    "myEmptySet"
   ]
  },
  {
   "cell_type": "code",
   "execution_count": 48,
   "id": "c155c713",
   "metadata": {},
   "outputs": [],
   "source": [
    "mySet = {1,1,1,1,1,2,3}"
   ]
  },
  {
   "cell_type": "code",
   "execution_count": 49,
   "id": "c4108d84",
   "metadata": {},
   "outputs": [
    {
     "data": {
      "text/plain": [
       "{1, 2, 3}"
      ]
     },
     "execution_count": 49,
     "metadata": {},
     "output_type": "execute_result"
    }
   ],
   "source": [
    "mySet"
   ]
  },
  {
   "cell_type": "code",
   "execution_count": 50,
   "id": "29ad79bc",
   "metadata": {},
   "outputs": [],
   "source": [
    "mySet = {\"a\",\"a\",\"b\",\"b\"}"
   ]
  },
  {
   "cell_type": "code",
   "execution_count": 51,
   "id": "db1380da",
   "metadata": {},
   "outputs": [
    {
     "data": {
      "text/plain": [
       "{'a', 'b'}"
      ]
     },
     "execution_count": 51,
     "metadata": {},
     "output_type": "execute_result"
    }
   ],
   "source": [
    "mySet"
   ]
  },
  {
   "cell_type": "code",
   "execution_count": 52,
   "id": "9402cb8a",
   "metadata": {},
   "outputs": [],
   "source": [
    "mySet.add(\"c\")"
   ]
  },
  {
   "cell_type": "code",
   "execution_count": 53,
   "id": "517a336c",
   "metadata": {},
   "outputs": [
    {
     "data": {
      "text/plain": [
       "{'a', 'b', 'c'}"
      ]
     },
     "execution_count": 53,
     "metadata": {},
     "output_type": "execute_result"
    }
   ],
   "source": [
    "mySet"
   ]
  },
  {
   "cell_type": "code",
   "execution_count": 54,
   "id": "2dc42d3a",
   "metadata": {},
   "outputs": [],
   "source": [
    "#tuple // indexleri değiştiremezsin listeden farkı olarak"
   ]
  },
  {
   "cell_type": "code",
   "execution_count": 55,
   "id": "32a6ef99",
   "metadata": {},
   "outputs": [],
   "source": [
    "myList = [1,2,3,4,5,1,2,3]"
   ]
  },
  {
   "cell_type": "code",
   "execution_count": 57,
   "id": "7688aff2",
   "metadata": {},
   "outputs": [
    {
     "data": {
      "text/plain": [
       "[1, 2, 3, 4, 5, 1, 2, 3]"
      ]
     },
     "execution_count": 57,
     "metadata": {},
     "output_type": "execute_result"
    }
   ],
   "source": [
    "myList"
   ]
  },
  {
   "cell_type": "code",
   "execution_count": 58,
   "id": "c3506692",
   "metadata": {},
   "outputs": [],
   "source": [
    "myTuple = (1,2,3,4,5,1,2,3)"
   ]
  },
  {
   "cell_type": "code",
   "execution_count": 59,
   "id": "e946a204",
   "metadata": {},
   "outputs": [
    {
     "data": {
      "text/plain": [
       "(1, 2, 3, 4, 5, 1, 2, 3)"
      ]
     },
     "execution_count": 59,
     "metadata": {},
     "output_type": "execute_result"
    }
   ],
   "source": [
    "myTuple"
   ]
  },
  {
   "cell_type": "code",
   "execution_count": 60,
   "id": "602b1a70",
   "metadata": {},
   "outputs": [
    {
     "data": {
      "text/plain": [
       "1"
      ]
     },
     "execution_count": 60,
     "metadata": {},
     "output_type": "execute_result"
    }
   ],
   "source": [
    "myTuple[0]"
   ]
  },
  {
   "cell_type": "code",
   "execution_count": 61,
   "id": "79b3b935",
   "metadata": {},
   "outputs": [
    {
     "data": {
      "text/plain": [
       "2"
      ]
     },
     "execution_count": 61,
     "metadata": {},
     "output_type": "execute_result"
    }
   ],
   "source": [
    "myTuple.count(2)"
   ]
  },
  {
   "cell_type": "code",
   "execution_count": 62,
   "id": "cbc9c704",
   "metadata": {},
   "outputs": [],
   "source": [
    "#tuple unpacking"
   ]
  },
  {
   "cell_type": "code",
   "execution_count": 63,
   "id": "eefbf9cf",
   "metadata": {},
   "outputs": [],
   "source": [
    "(x,y) = (5,4)"
   ]
  },
  {
   "cell_type": "code",
   "execution_count": 64,
   "id": "590ca3cd",
   "metadata": {},
   "outputs": [
    {
     "data": {
      "text/plain": [
       "5"
      ]
     },
     "execution_count": 64,
     "metadata": {},
     "output_type": "execute_result"
    }
   ],
   "source": [
    "x"
   ]
  },
  {
   "cell_type": "code",
   "execution_count": 65,
   "id": "694525a9",
   "metadata": {},
   "outputs": [
    {
     "data": {
      "text/plain": [
       "4"
      ]
     },
     "execution_count": 65,
     "metadata": {},
     "output_type": "execute_result"
    }
   ],
   "source": [
    "y"
   ]
  },
  {
   "cell_type": "code",
   "execution_count": 66,
   "id": "da845874",
   "metadata": {},
   "outputs": [],
   "source": [
    "(m,n) = (10,20)"
   ]
  },
  {
   "cell_type": "code",
   "execution_count": 67,
   "id": "217d1e08",
   "metadata": {},
   "outputs": [],
   "source": [
    "(m,n) = (n,m)"
   ]
  },
  {
   "cell_type": "code",
   "execution_count": 68,
   "id": "535837ca",
   "metadata": {},
   "outputs": [
    {
     "data": {
      "text/plain": [
       "20"
      ]
     },
     "execution_count": 68,
     "metadata": {},
     "output_type": "execute_result"
    }
   ],
   "source": [
    "m"
   ]
  },
  {
   "cell_type": "code",
   "execution_count": 69,
   "id": "3689d846",
   "metadata": {},
   "outputs": [
    {
     "data": {
      "text/plain": [
       "10"
      ]
     },
     "execution_count": 69,
     "metadata": {},
     "output_type": "execute_result"
    }
   ],
   "source": [
    "n"
   ]
  },
  {
   "cell_type": "code",
   "execution_count": 70,
   "id": "602bc7b5",
   "metadata": {},
   "outputs": [],
   "source": [
    "myInt = 10"
   ]
  },
  {
   "cell_type": "code",
   "execution_count": 71,
   "id": "dbc744b1",
   "metadata": {},
   "outputs": [
    {
     "data": {
      "text/plain": [
       "'10'"
      ]
     },
     "execution_count": 71,
     "metadata": {},
     "output_type": "execute_result"
    }
   ],
   "source": [
    "str(myInt)"
   ]
  },
  {
   "cell_type": "code",
   "execution_count": 73,
   "id": "4c4d9099",
   "metadata": {},
   "outputs": [
    {
     "data": {
      "text/plain": [
       "40"
      ]
     },
     "execution_count": 73,
     "metadata": {},
     "output_type": "execute_result"
    }
   ],
   "source": [
    "int(\"40\")"
   ]
  },
  {
   "cell_type": "code",
   "execution_count": 75,
   "id": "6b667b68",
   "metadata": {},
   "outputs": [
    {
     "name": "stdout",
     "output_type": "stream",
     "text": [
      "enter age : 27\n"
     ]
    }
   ],
   "source": [
    "userAge = input(\"enter age : \")"
   ]
  },
  {
   "cell_type": "code",
   "execution_count": 76,
   "id": "af133432",
   "metadata": {},
   "outputs": [
    {
     "data": {
      "text/plain": [
       "'27'"
      ]
     },
     "execution_count": 76,
     "metadata": {},
     "output_type": "execute_result"
    }
   ],
   "source": [
    "userAge"
   ]
  },
  {
   "cell_type": "code",
   "execution_count": 77,
   "id": "0e5eeb68",
   "metadata": {},
   "outputs": [
    {
     "data": {
      "text/plain": [
       "str"
      ]
     },
     "execution_count": 77,
     "metadata": {},
     "output_type": "execute_result"
    }
   ],
   "source": [
    "type(userAge)"
   ]
  },
  {
   "cell_type": "code",
   "execution_count": 79,
   "id": "45131d3b",
   "metadata": {},
   "outputs": [
    {
     "data": {
      "text/plain": [
       "54"
      ]
     },
     "execution_count": 79,
     "metadata": {},
     "output_type": "execute_result"
    }
   ],
   "source": [
    "int(userAge) * 2"
   ]
  },
  {
   "cell_type": "code",
   "execution_count": 81,
   "id": "29683466",
   "metadata": {},
   "outputs": [
    {
     "data": {
      "text/plain": [
       "4.8"
      ]
     },
     "execution_count": 81,
     "metadata": {},
     "output_type": "execute_result"
    }
   ],
   "source": [
    "2.4 * 2"
   ]
  },
  {
   "cell_type": "code",
   "execution_count": 82,
   "id": "7440dc76",
   "metadata": {},
   "outputs": [],
   "source": [
    "myFloat = 4.8"
   ]
  },
  {
   "cell_type": "code",
   "execution_count": 83,
   "id": "8adfa072",
   "metadata": {},
   "outputs": [
    {
     "data": {
      "text/plain": [
       "4"
      ]
     },
     "execution_count": 83,
     "metadata": {},
     "output_type": "execute_result"
    }
   ],
   "source": [
    "int(myFloat)"
   ]
  },
  {
   "cell_type": "code",
   "execution_count": 84,
   "id": "08313655",
   "metadata": {},
   "outputs": [],
   "source": [
    "myList = [1,2,3,4,5,1,2,3,4,5,1,2,3]"
   ]
  },
  {
   "cell_type": "code",
   "execution_count": 86,
   "id": "6c206f3b",
   "metadata": {},
   "outputs": [],
   "source": [
    "mySet = set(myList)"
   ]
  },
  {
   "cell_type": "code",
   "execution_count": 87,
   "id": "21326291",
   "metadata": {},
   "outputs": [
    {
     "data": {
      "text/plain": [
       "{1, 2, 3, 4, 5}"
      ]
     },
     "execution_count": 87,
     "metadata": {},
     "output_type": "execute_result"
    }
   ],
   "source": [
    "mySet"
   ]
  },
  {
   "cell_type": "markdown",
   "id": "356c9fd4",
   "metadata": {},
   "source": [
    "## error handling"
   ]
  },
  {
   "cell_type": "code",
   "execution_count": 90,
   "id": "f8cc2df4",
   "metadata": {},
   "outputs": [
    {
     "name": "stdout",
     "output_type": "stream",
     "text": [
      "error\n"
     ]
    }
   ],
   "source": [
    "try:\n",
    "    int(\"atil\")\n",
    "except:\n",
    "    print(\"error\")"
   ]
  },
  {
   "cell_type": "code",
   "execution_count": 92,
   "id": "0e66bdfc",
   "metadata": {},
   "outputs": [
    {
     "name": "stdout",
     "output_type": "stream",
     "text": [
      "enter age: fafafw\n",
      "enter age!!\n"
     ]
    }
   ],
   "source": [
    "userAge = input(\"enter age: \")\n",
    "\n",
    "try:\n",
    "    print(int(userAge) * 2)\n",
    "except:\n",
    "    print(\"enter age!!\")"
   ]
  },
  {
   "cell_type": "code",
   "execution_count": null,
   "id": "34ee3f1d",
   "metadata": {},
   "outputs": [],
   "source": []
  }
 ],
 "metadata": {
  "kernelspec": {
   "display_name": "Python 3 (ipykernel)",
   "language": "python",
   "name": "python3"
  },
  "language_info": {
   "codemirror_mode": {
    "name": "ipython",
    "version": 3
   },
   "file_extension": ".py",
   "mimetype": "text/x-python",
   "name": "python",
   "nbconvert_exporter": "python",
   "pygments_lexer": "ipython3",
   "version": "3.9.12"
  }
 },
 "nbformat": 4,
 "nbformat_minor": 5
}
