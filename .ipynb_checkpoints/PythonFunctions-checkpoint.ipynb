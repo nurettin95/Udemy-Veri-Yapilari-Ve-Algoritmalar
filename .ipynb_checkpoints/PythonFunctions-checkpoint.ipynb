{
 "cells": [
  {
   "cell_type": "code",
   "execution_count": 2,
   "id": "91e62e6a",
   "metadata": {},
   "outputs": [],
   "source": [
    "#range"
   ]
  },
  {
   "cell_type": "code",
   "execution_count": 3,
   "id": "c2f253ba",
   "metadata": {},
   "outputs": [
    {
     "data": {
      "text/plain": [
       "[0, 1, 2, 3, 4, 5, 6, 7, 8, 9, 10, 11, 12, 13, 14, 15, 16, 17, 18, 19]"
      ]
     },
     "execution_count": 3,
     "metadata": {},
     "output_type": "execute_result"
    }
   ],
   "source": [
    "list(range(0,20))"
   ]
  },
  {
   "cell_type": "code",
   "execution_count": 6,
   "id": "2015cc34",
   "metadata": {},
   "outputs": [],
   "source": [
    "myList = [\"a\",\"b\",\"c\",\"d\",\"e\"]"
   ]
  },
  {
   "cell_type": "code",
   "execution_count": 8,
   "id": "10fdcd7a",
   "metadata": {},
   "outputs": [
    {
     "name": "stdout",
     "output_type": "stream",
     "text": [
      "0\n",
      "1\n"
     ]
    }
   ],
   "source": [
    "for num in range(0,len(myList)-3):\n",
    "    print(num)"
   ]
  },
  {
   "cell_type": "code",
   "execution_count": 11,
   "id": "79e57e9e",
   "metadata": {},
   "outputs": [
    {
     "data": {
      "text/plain": [
       "[0, 20, 40, 60, 80]"
      ]
     },
     "execution_count": 11,
     "metadata": {},
     "output_type": "execute_result"
    }
   ],
   "source": [
    "list(range(0,100,20)) #20 şer atla"
   ]
  },
  {
   "cell_type": "code",
   "execution_count": 12,
   "id": "385aa683",
   "metadata": {},
   "outputs": [],
   "source": [
    "#enumerate"
   ]
  },
  {
   "cell_type": "code",
   "execution_count": 13,
   "id": "a41e290c",
   "metadata": {},
   "outputs": [],
   "source": [
    "myList = list(range(5,15))"
   ]
  },
  {
   "cell_type": "code",
   "execution_count": 14,
   "id": "4f30b12a",
   "metadata": {},
   "outputs": [
    {
     "data": {
      "text/plain": [
       "[5, 6, 7, 8, 9, 10, 11, 12, 13, 14]"
      ]
     },
     "execution_count": 14,
     "metadata": {},
     "output_type": "execute_result"
    }
   ],
   "source": [
    "myList"
   ]
  },
  {
   "cell_type": "code",
   "execution_count": 15,
   "id": "ecd5c61e",
   "metadata": {},
   "outputs": [
    {
     "name": "stdout",
     "output_type": "stream",
     "text": [
      "number: 5 index: 0\n",
      "number: 6 index: 1\n",
      "number: 7 index: 2\n",
      "number: 8 index: 3\n",
      "number: 9 index: 4\n",
      "number: 10 index: 5\n",
      "number: 11 index: 6\n",
      "number: 12 index: 7\n",
      "number: 13 index: 8\n",
      "number: 14 index: 9\n"
     ]
    }
   ],
   "source": [
    "index = 0\n",
    "for number in myList:\n",
    "    print(f\"number: {number} index: {index}\")\n",
    "    index += 1"
   ]
  },
  {
   "cell_type": "code",
   "execution_count": 16,
   "id": "4c0f2fb3",
   "metadata": {},
   "outputs": [
    {
     "name": "stdout",
     "output_type": "stream",
     "text": [
      "(0, 5)\n",
      "(1, 6)\n",
      "(2, 7)\n",
      "(3, 8)\n",
      "(4, 9)\n",
      "(5, 10)\n",
      "(6, 11)\n",
      "(7, 12)\n",
      "(8, 13)\n",
      "(9, 14)\n"
     ]
    }
   ],
   "source": [
    "for element in enumerate(myList):\n",
    "    print(element)"
   ]
  },
  {
   "cell_type": "code",
   "execution_count": 17,
   "id": "85c628dc",
   "metadata": {},
   "outputs": [
    {
     "name": "stdout",
     "output_type": "stream",
     "text": [
      "number: 5 index: 0\n",
      "number: 6 index: 1\n",
      "number: 7 index: 2\n",
      "number: 8 index: 3\n",
      "number: 9 index: 4\n",
      "number: 10 index: 5\n",
      "number: 11 index: 6\n",
      "number: 12 index: 7\n",
      "number: 13 index: 8\n",
      "number: 14 index: 9\n"
     ]
    }
   ],
   "source": [
    "for (index,number) in enumerate(myList):\n",
    "    print(f\"number: {number} index: {index}\")"
   ]
  },
  {
   "cell_type": "code",
   "execution_count": 18,
   "id": "45bf98ba",
   "metadata": {},
   "outputs": [],
   "source": [
    "newList = []"
   ]
  },
  {
   "cell_type": "code",
   "execution_count": 19,
   "id": "e7206ead",
   "metadata": {},
   "outputs": [],
   "source": [
    "myString = \"atilsamancioglu\""
   ]
  },
  {
   "cell_type": "code",
   "execution_count": 20,
   "id": "35dc6b2a",
   "metadata": {},
   "outputs": [],
   "source": [
    "for element in myString:\n",
    "    newList.append(element)"
   ]
  },
  {
   "cell_type": "code",
   "execution_count": 21,
   "id": "8b748cf6",
   "metadata": {},
   "outputs": [
    {
     "data": {
      "text/plain": [
       "['a', 't', 'i', 'l', 's', 'a', 'm', 'a', 'n', 'c', 'i', 'o', 'g', 'l', 'u']"
      ]
     },
     "execution_count": 21,
     "metadata": {},
     "output_type": "execute_result"
    }
   ],
   "source": [
    "newList"
   ]
  },
  {
   "cell_type": "code",
   "execution_count": 22,
   "id": "e4bad87d",
   "metadata": {},
   "outputs": [],
   "source": [
    "#one liner"
   ]
  },
  {
   "cell_type": "code",
   "execution_count": 23,
   "id": "b18bc0af",
   "metadata": {},
   "outputs": [],
   "source": [
    "newList = [element for element in myString]"
   ]
  },
  {
   "cell_type": "code",
   "execution_count": 24,
   "id": "2ccc3ef8",
   "metadata": {},
   "outputs": [
    {
     "data": {
      "text/plain": [
       "['a', 't', 'i', 'l', 's', 'a', 'm', 'a', 'n', 'c', 'i', 'o', 'g', 'l', 'u']"
      ]
     },
     "execution_count": 24,
     "metadata": {},
     "output_type": "execute_result"
    }
   ],
   "source": [
    "newList"
   ]
  },
  {
   "cell_type": "code",
   "execution_count": 25,
   "id": "54db4680",
   "metadata": {},
   "outputs": [],
   "source": [
    "#functions"
   ]
  },
  {
   "cell_type": "code",
   "execution_count": 26,
   "id": "4d00b186",
   "metadata": {},
   "outputs": [],
   "source": [
    "def helloPython():\n",
    "    print(\"hello\")\n",
    "    print(\"world\")\n",
    "    print(\"python\")"
   ]
  },
  {
   "cell_type": "code",
   "execution_count": 28,
   "id": "1ff89f2b",
   "metadata": {},
   "outputs": [
    {
     "name": "stdout",
     "output_type": "stream",
     "text": [
      "hello\n",
      "world\n",
      "python\n"
     ]
    }
   ],
   "source": [
    "helloPython()"
   ]
  },
  {
   "cell_type": "code",
   "execution_count": 29,
   "id": "f4b96d5f",
   "metadata": {},
   "outputs": [],
   "source": [
    "def helloName(name):\n",
    "    print(f\"hello {name}\")"
   ]
  },
  {
   "cell_type": "code",
   "execution_count": 31,
   "id": "b564e110",
   "metadata": {},
   "outputs": [
    {
     "name": "stdout",
     "output_type": "stream",
     "text": [
      "hello james\n"
     ]
    }
   ],
   "source": [
    "helloName(\"james\")"
   ]
  },
  {
   "cell_type": "code",
   "execution_count": 33,
   "id": "016091fa",
   "metadata": {},
   "outputs": [],
   "source": [
    "def pythonSum(number1,number2):\n",
    "    print(number1 + number2)"
   ]
  },
  {
   "cell_type": "code",
   "execution_count": 34,
   "id": "c18240f2",
   "metadata": {},
   "outputs": [
    {
     "name": "stdout",
     "output_type": "stream",
     "text": [
      "20\n"
     ]
    }
   ],
   "source": [
    "pythonSum(5,15)"
   ]
  },
  {
   "cell_type": "code",
   "execution_count": 35,
   "id": "3c6774bd",
   "metadata": {},
   "outputs": [
    {
     "name": "stdout",
     "output_type": "stream",
     "text": [
      "30\n"
     ]
    }
   ],
   "source": [
    "x = pythonSum(10,20)"
   ]
  },
  {
   "cell_type": "code",
   "execution_count": 36,
   "id": "2a7cc23e",
   "metadata": {},
   "outputs": [
    {
     "data": {
      "text/plain": [
       "NoneType"
      ]
     },
     "execution_count": 36,
     "metadata": {},
     "output_type": "execute_result"
    }
   ],
   "source": [
    "type(x)"
   ]
  },
  {
   "cell_type": "code",
   "execution_count": 42,
   "id": "e86cec05",
   "metadata": {},
   "outputs": [
    {
     "name": "stdout",
     "output_type": "stream",
     "text": [
      "x is None\n"
     ]
    }
   ],
   "source": [
    "if x:\n",
    "    print(x)\n",
    "else:\n",
    "    print(\"x is None\")"
   ]
  },
  {
   "cell_type": "code",
   "execution_count": 44,
   "id": "1a0185fe",
   "metadata": {},
   "outputs": [],
   "source": [
    "def returnSum(num1,num2,num3):\n",
    "    print(num1+num2+num3)\n",
    "    return num1+num2+num3"
   ]
  },
  {
   "cell_type": "code",
   "execution_count": 45,
   "id": "9819b7a4",
   "metadata": {},
   "outputs": [
    {
     "name": "stdout",
     "output_type": "stream",
     "text": [
      "60\n"
     ]
    }
   ],
   "source": [
    "x = returnSum(10,20,30)"
   ]
  },
  {
   "cell_type": "code",
   "execution_count": 46,
   "id": "b79aed84",
   "metadata": {},
   "outputs": [
    {
     "data": {
      "text/plain": [
       "60"
      ]
     },
     "execution_count": 46,
     "metadata": {},
     "output_type": "execute_result"
    }
   ],
   "source": [
    "x"
   ]
  },
  {
   "cell_type": "code",
   "execution_count": 47,
   "id": "89c5aad1",
   "metadata": {},
   "outputs": [
    {
     "data": {
      "text/plain": [
       "int"
      ]
     },
     "execution_count": 47,
     "metadata": {},
     "output_type": "execute_result"
    }
   ],
   "source": [
    "type(x)"
   ]
  },
  {
   "cell_type": "code",
   "execution_count": 48,
   "id": "cb3909a8",
   "metadata": {},
   "outputs": [],
   "source": [
    "def stringCheck(s):\n",
    "    if s == \"atil\":\n",
    "        print(\"atil\")\n",
    "    else:\n",
    "        print(\"not atil\")"
   ]
  },
  {
   "cell_type": "code",
   "execution_count": 50,
   "id": "809c4fc5",
   "metadata": {},
   "outputs": [
    {
     "name": "stdout",
     "output_type": "stream",
     "text": [
      "not atil\n"
     ]
    }
   ],
   "source": [
    "stringCheck(\"sfafaf\")"
   ]
  },
  {
   "cell_type": "code",
   "execution_count": 51,
   "id": "16df9978",
   "metadata": {},
   "outputs": [],
   "source": [
    "def defaultValueFunction(name=\"Atil\"):\n",
    "    print(name)"
   ]
  },
  {
   "cell_type": "code",
   "execution_count": 53,
   "id": "51ab03de",
   "metadata": {},
   "outputs": [
    {
     "name": "stdout",
     "output_type": "stream",
     "text": [
      "Atil\n"
     ]
    }
   ],
   "source": [
    "defaultValueFunction()"
   ]
  },
  {
   "cell_type": "code",
   "execution_count": 54,
   "id": "85436c36",
   "metadata": {},
   "outputs": [
    {
     "name": "stdout",
     "output_type": "stream",
     "text": [
      "james\n"
     ]
    }
   ],
   "source": [
    "defaultValueFunction(\"james\")"
   ]
  },
  {
   "cell_type": "code",
   "execution_count": null,
   "id": "d4d69673",
   "metadata": {},
   "outputs": [],
   "source": []
  }
 ],
 "metadata": {
  "kernelspec": {
   "display_name": "Python 3 (ipykernel)",
   "language": "python",
   "name": "python3"
  },
  "language_info": {
   "codemirror_mode": {
    "name": "ipython",
    "version": 3
   },
   "file_extension": ".py",
   "mimetype": "text/x-python",
   "name": "python",
   "nbconvert_exporter": "python",
   "pygments_lexer": "ipython3",
   "version": "3.9.12"
  }
 },
 "nbformat": 4,
 "nbformat_minor": 5
}
