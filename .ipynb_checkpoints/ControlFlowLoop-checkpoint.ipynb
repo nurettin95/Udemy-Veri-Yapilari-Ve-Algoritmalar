{
 "cells": [
  {
   "cell_type": "code",
   "execution_count": 1,
   "id": "0c1a1607",
   "metadata": {},
   "outputs": [
    {
     "data": {
      "text/plain": [
       "True"
      ]
     },
     "execution_count": 1,
     "metadata": {},
     "output_type": "execute_result"
    }
   ],
   "source": [
    "4 > 3"
   ]
  },
  {
   "cell_type": "code",
   "execution_count": 2,
   "id": "9b109962",
   "metadata": {},
   "outputs": [
    {
     "data": {
      "text/plain": [
       "False"
      ]
     },
     "execution_count": 2,
     "metadata": {},
     "output_type": "execute_result"
    }
   ],
   "source": [
    "4 < 3"
   ]
  },
  {
   "cell_type": "code",
   "execution_count": 3,
   "id": "b8d17dae",
   "metadata": {},
   "outputs": [],
   "source": [
    "x = 10"
   ]
  },
  {
   "cell_type": "code",
   "execution_count": 5,
   "id": "d56a85f4",
   "metadata": {},
   "outputs": [
    {
     "name": "stdout",
     "output_type": "stream",
     "text": [
      "x > 40\n"
     ]
    }
   ],
   "source": [
    "if x > 20 and x<= 30:\n",
    "    print(\"20 > x >30\")\n",
    "elif x > 30 and x <=40:\n",
    "    print(\"30 > x >= 40\")\n",
    "else:\n",
    "    print(\"x > 40\")"
   ]
  },
  {
   "cell_type": "code",
   "execution_count": 6,
   "id": "eba94002",
   "metadata": {},
   "outputs": [],
   "source": [
    "age = 35"
   ]
  },
  {
   "cell_type": "code",
   "execution_count": 7,
   "id": "7779b9b7",
   "metadata": {},
   "outputs": [
    {
     "name": "stdout",
     "output_type": "stream",
     "text": [
      "my age is : 35\n"
     ]
    }
   ],
   "source": [
    "print(f\"my age is : {age}\") #formatted string"
   ]
  },
  {
   "cell_type": "code",
   "execution_count": 8,
   "id": "9e9810f1",
   "metadata": {},
   "outputs": [],
   "source": [
    "myList = [10,20,30,40,50,60]"
   ]
  },
  {
   "cell_type": "code",
   "execution_count": 9,
   "id": "88b743c0",
   "metadata": {},
   "outputs": [
    {
     "name": "stdout",
     "output_type": "stream",
     "text": [
      "15.0\n",
      "30.0\n",
      "45.0\n",
      "60.0\n",
      "75.0\n",
      "90.0\n"
     ]
    }
   ],
   "source": [
    "for number in myList:\n",
    "    print(number / 2 * 3)"
   ]
  },
  {
   "cell_type": "code",
   "execution_count": 10,
   "id": "6c94d0c2",
   "metadata": {},
   "outputs": [
    {
     "data": {
      "text/plain": [
       "True"
      ]
     },
     "execution_count": 10,
     "metadata": {},
     "output_type": "execute_result"
    }
   ],
   "source": [
    "40 in myList"
   ]
  },
  {
   "cell_type": "code",
   "execution_count": 11,
   "id": "f770398f",
   "metadata": {},
   "outputs": [
    {
     "data": {
      "text/plain": [
       "True"
      ]
     },
     "execution_count": 11,
     "metadata": {},
     "output_type": "execute_result"
    }
   ],
   "source": [
    "\"a\" in \"metallica\""
   ]
  },
  {
   "cell_type": "code",
   "execution_count": 12,
   "id": "4fd4833c",
   "metadata": {},
   "outputs": [],
   "source": [
    "m = 0"
   ]
  },
  {
   "cell_type": "code",
   "execution_count": 15,
   "id": "da888af0",
   "metadata": {},
   "outputs": [
    {
     "name": "stdout",
     "output_type": "stream",
     "text": [
      "0\n",
      "1\n",
      "2\n",
      "3\n",
      "4\n",
      "5\n",
      "6\n",
      "7\n",
      "8\n",
      "9\n"
     ]
    }
   ],
   "source": [
    "while m < 10:\n",
    "    print(m)\n",
    "    m += 1"
   ]
  },
  {
   "cell_type": "code",
   "execution_count": null,
   "id": "a6a13d68",
   "metadata": {},
   "outputs": [],
   "source": []
  }
 ],
 "metadata": {
  "kernelspec": {
   "display_name": "Python 3 (ipykernel)",
   "language": "python",
   "name": "python3"
  },
  "language_info": {
   "codemirror_mode": {
    "name": "ipython",
    "version": 3
   },
   "file_extension": ".py",
   "mimetype": "text/x-python",
   "name": "python",
   "nbconvert_exporter": "python",
   "pygments_lexer": "ipython3",
   "version": "3.9.12"
  }
 },
 "nbformat": 4,
 "nbformat_minor": 5
}
